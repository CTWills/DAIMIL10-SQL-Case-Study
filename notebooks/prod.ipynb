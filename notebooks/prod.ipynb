{
 "cells": [
  {
   "cell_type": "markdown",
   "metadata": {},
   "source": [
    "The code below is for production question 1 if they want to know the null items. "
   ]
  },
  {
   "cell_type": "code",
   "execution_count": null,
   "metadata": {},
   "outputs": [],
   "source": [
    "\"\"\" WITH categories AS (\n",
    "  SELECT prod.name, prod.listprice, NTILE(2) OVER (ORDER BY prod.listprice) AS category\n",
    "  FROM production.product as prod\n",
    ")\n",
    "SELECT category\n",
    "  , CASE\n",
    "  WHEN category = 1 then 'No List Price'\n",
    "  WHEN category = 2 then 'Has a List Price'\n",
    "  END AS categorylabel\n",
    "  , AVG(prod.listprice) AS \"Average List Price\", COUNT(prod.name) AS \"Total Products\"\n",
    "FROM categories\n",
    "JOIN production.product AS prod\n",
    "USING(name)\n",
    "WHERE prod.productsubcategoryid IS NULL\n",
    "GROUP BY category\n",
    "ORDER BY category ASC \"\"\""
   ]
  },
  {
   "cell_type": "markdown",
   "metadata": {},
   "source": [
    "### Production question 2"
   ]
  },
  {
   "cell_type": "code",
   "execution_count": null,
   "metadata": {},
   "outputs": [],
   "source": [
    "\"\"\"SELECT SUM(CASE \n",
    "  WHEN p.listprice >= (SELECT MIN(listprice) FROM production.product WHERE listprice > 0)\n",
    "    AND p.listprice <= (SELECT PERCENTILE_CONT(0.25) WITHIN GROUP (ORDER BY listprice) FROM production.product WHERE listprice > 0)\n",
    "  THEN 1 ELSE 0 END) AS \"2.29 to 69.99 (Min to Q1)\"\n",
    "  , SUM(CASE \n",
    "  WHEN p.listprice > (SELECT PERCENTILE_CONT(0.25) WITHIN GROUP (ORDER BY listprice) FROM production.product WHERE listprice > 0)\n",
    "    AND p.listprice <= (SELECT PERCENTILE_CONT(0.5) WITHIN GROUP (ORDER BY listprice) FROM production.product WHERE listprice > 0)\n",
    "  THEN 1 ELSE 0 END) AS \"69.99 to 337.22 (Q1 to Median)\"\n",
    "  , SUM(CASE \n",
    "  WHEN p.listprice > (SELECT PERCENTILE_CONT(0.5) WITHIN GROUP (ORDER BY listprice) FROM production.product WHERE listprice > 0)\n",
    "    AND p.listprice <= (SELECT PERCENTILE_CONT(0.75) WITHIN GROUP (ORDER BY listprice) FROM production.product WHERE listprice > 0)\n",
    "  THEN 1 ELSE 0 END) AS \"337.22 to 1079.99 (Median to Q3)\"\n",
    "  , SUM(CASE \n",
    "  WHEN p.listprice > (SELECT PERCENTILE_CONT(0.75) WITHIN GROUP (ORDER BY listprice) FROM production.product WHERE listprice > 0)\n",
    "    AND p.listprice <= (SELECT MAX(listprice) FROM production.product WHERE listprice > 0)\n",
    "  THEN 1 ELSE 0 END) AS \"1079.99 to 3578.27 (Q3 to Max)\"\n",
    "FROM production.product AS p\n",
    "WHERE listprice > 0\n",
    ";\n",
    "\"\"\""
   ]
  }
 ],
 "metadata": {
  "language_info": {
   "name": "python"
  }
 },
 "nbformat": 4,
 "nbformat_minor": 2
}
