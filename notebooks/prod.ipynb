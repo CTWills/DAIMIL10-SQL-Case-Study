{
 "cells": [
  {
   "cell_type": "markdown",
   "metadata": {},
   "source": [
    "The code below is for production question 1 if they want to know the null items. "
   ]
  },
  {
   "cell_type": "code",
   "execution_count": null,
   "metadata": {},
   "outputs": [],
   "source": [
    "\"\"\" WITH categories AS (\n",
    "  SELECT prod.name, prod.listprice, NTILE(2) OVER (ORDER BY prod.listprice) AS category\n",
    "  FROM production.product as prod\n",
    ")\n",
    "SELECT category\n",
    "  , CASE\n",
    "  WHEN category = 1 then 'No List Price'\n",
    "  WHEN category = 2 then 'Has a List Price'\n",
    "  END AS categorylabel\n",
    "  , AVG(prod.listprice) AS \"Average List Price\", COUNT(prod.name) AS \"Total Products\"\n",
    "FROM categories\n",
    "JOIN production.product AS prod\n",
    "USING(name)\n",
    "WHERE prod.productsubcategoryid IS NULL\n",
    "GROUP BY category\n",
    "ORDER BY category ASC \"\"\""
   ]
  }
 ],
 "metadata": {
  "language_info": {
   "name": "python"
  }
 },
 "nbformat": 4,
 "nbformat_minor": 2
}
